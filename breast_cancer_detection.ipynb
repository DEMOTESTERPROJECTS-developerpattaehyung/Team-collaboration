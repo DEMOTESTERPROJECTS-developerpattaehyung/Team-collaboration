{
 "cells": [
  {
   "cell_type": "markdown",
   "id": "919ffb58",
   "metadata": {},
   "source": [
    "\n",
    "# 🧪 Breast Cancer Detection (Jupyter Notebook)\n",
    "\n",
    "This notebook builds a clean, end‑to‑end pipeline for **breast cancer detection** using the classic **Wisconsin Breast Cancer** dataset from `scikit-learn`.  \n",
    "We'll go from **data loading → EDA → modeling → evaluation → interpretation → model export**.\n",
    "\n",
    "**Models used:**\n",
    "- Logistic Regression (with scaling)\n",
    "- Random Forest (tree-based)\n",
    "\n",
    "**What you'll learn/do:**\n",
    "- Explore the data and its features\n",
    "- Split data with stratification\n",
    "- Build robust `scikit-learn` pipelines\n",
    "- Evaluate with accuracy, precision, recall, F1, ROC AUC\n",
    "- Plot ROC curves and confusion matrices\n",
    "- Use cross‑validation\n",
    "- Inspect feature importance & permutation importance\n",
    "- Save and reuse the trained model\n"
   ]
  },
  {
   "cell_type": "markdown",
   "id": "183e1a8c",
   "metadata": {},
   "source": [
    "\n",
    "## 1) Setup & Imports\n"
   ]
  },
  {
   "cell_type": "code",
   "execution_count": null,
   "id": "32ac6a60",
   "metadata": {},
   "outputs": [],
   "source": [
    "\n",
    "# (Optional) If running locally and you need to install:\n",
    "# !pip install -U scikit-learn pandas matplotlib joblib\n",
    "\n",
    "import numpy as np\n",
    "import pandas as pd\n",
    "import matplotlib.pyplot as plt\n",
    "\n",
    "from sklearn.datasets import load_breast_cancer\n",
    "from sklearn.model_selection import train_test_split, StratifiedKFold, cross_val_score\n",
    "from sklearn.preprocessing import StandardScaler\n",
    "from sklearn.pipeline import Pipeline\n",
    "from sklearn.linear_model import LogisticRegression\n",
    "from sklearn.ensemble import RandomForestClassifier\n",
    "from sklearn.metrics import (\n",
    "    accuracy_score, precision_score, recall_score, f1_score,\n",
    "    roc_auc_score, roc_curve, confusion_matrix, classification_report\n",
    ")\n",
    "from sklearn.inspection import permutation_importance\n",
    "import joblib\n",
    "\n",
    "# Reproducibility\n",
    "RANDOM_STATE = 42\n",
    "np.random.seed(RANDOM_STATE)\n",
    "\n",
    "pd.set_option('display.max_columns', 100)\n"
   ]
  },
  {
   "cell_type": "markdown",
   "id": "df1190b3",
   "metadata": {},
   "source": [
    "\n",
    "## 2) Load Dataset\n",
    "We use `sklearn.datasets.load_breast_cancer`, which is bundled with scikit‑learn (no download needed).\n"
   ]
  },
  {
   "cell_type": "code",
   "execution_count": null,
   "id": "fc49fc59",
   "metadata": {},
   "outputs": [],
   "source": [
    "\n",
    "data = load_breast_cancer()\n",
    "X = pd.DataFrame(data.data, columns=data.feature_names)\n",
    "y = pd.Series(data.target, name='target')\n",
    "\n",
    "X.head()\n"
   ]
  },
  {
   "cell_type": "markdown",
   "id": "1760619a",
   "metadata": {},
   "source": [
    "\n",
    "## 3) Quick EDA\n",
    "Check shapes, class balance, and summary stats.\n"
   ]
  },
  {
   "cell_type": "code",
   "execution_count": null,
   "id": "0c9d0c5c",
   "metadata": {},
   "outputs": [],
   "source": [
    "\n",
    "print(\"Shape X:\", X.shape, \"| Shape y:\", y.shape)\n",
    "print(\"\\nClasses:\", dict(zip(data.target_names, np.bincount(y))))\n",
    "print(\"\\nDescription:\\n\", data.DESCR.split('\\n\\n')[0])\n"
   ]
  },
  {
   "cell_type": "code",
   "execution_count": null,
   "id": "dc65a0c6",
   "metadata": {},
   "outputs": [],
   "source": [
    "\n",
    "# Class balance plot\n",
    "class_counts = y.value_counts().sort_index()\n",
    "labels = [data.target_names[i] for i in class_counts.index]\n",
    "\n",
    "plt.figure()\n",
    "plt.bar(labels, class_counts.values)\n",
    "plt.title(\"Class Distribution\")\n",
    "plt.xlabel(\"Class\")\n",
    "plt.ylabel(\"Count\")\n",
    "plt.show()\n"
   ]
  },
  {
   "cell_type": "code",
   "execution_count": null,
   "id": "e22dc64f",
   "metadata": {},
   "outputs": [],
   "source": [
    "\n",
    "# Summary statistics\n",
    "X.describe()\n"
   ]
  },
  {
   "cell_type": "code",
   "execution_count": null,
   "id": "93cbd74b",
   "metadata": {},
   "outputs": [],
   "source": [
    "\n",
    "# Simple correlation heatmap (no seaborn) for the first 15 features (to keep readable)\n",
    "corr = X.iloc[:, :15].corr()\n",
    "plt.figure(figsize=(8, 6))\n",
    "plt.imshow(corr, aspect='auto', interpolation='nearest')\n",
    "plt.colorbar(label='Correlation')\n",
    "plt.title(\"Correlation Heatmap (first 15 features)\")\n",
    "plt.xticks(ticks=np.arange(corr.shape[1]), labels=corr.columns, rotation=90)\n",
    "plt.yticks(ticks=np.arange(corr.shape[0]), labels=corr.index)\n",
    "plt.tight_layout()\n",
    "plt.show()\n"
   ]
  },
  {
   "cell_type": "markdown",
   "id": "b6280efa",
   "metadata": {},
   "source": [
    "\n",
    "## 4) Train/Test Split\n",
    "We keep the class ratios with **stratification**.\n"
   ]
  },
  {
   "cell_type": "code",
   "execution_count": null,
   "id": "e8948837",
   "metadata": {},
   "outputs": [],
   "source": [
    "\n",
    "X_train, X_test, y_train, y_test = train_test_split(\n",
    "    X, y, test_size=0.2, random_state=RANDOM_STATE, stratify=y\n",
    ")\n",
    "\n",
    "X_train.shape, X_test.shape\n"
   ]
  },
  {
   "cell_type": "markdown",
   "id": "c8f24258",
   "metadata": {},
   "source": [
    "\n",
    "## 5) Models\n",
    "We'll compare two baselines:\n",
    "\n",
    "- **Logistic Regression** in a pipeline with **StandardScaler**  \n",
    "- **Random Forest** (no scaling needed)\n"
   ]
  },
  {
   "cell_type": "code",
   "execution_count": null,
   "id": "1ac80b94",
   "metadata": {},
   "outputs": [],
   "source": [
    "\n",
    "log_reg_clf = Pipeline(steps=[\n",
    "    (\"scaler\", StandardScaler()),\n",
    "    (\"model\", LogisticRegression(max_iter=500, random_state=RANDOM_STATE))\n",
    "])\n",
    "\n",
    "rf_clf = RandomForestClassifier(\n",
    "    n_estimators=300, max_depth=None, random_state=RANDOM_STATE, n_jobs=-1\n",
    ")\n",
    "\n",
    "log_reg_clf, rf_clf\n"
   ]
  },
  {
   "cell_type": "markdown",
   "id": "1f448010",
   "metadata": {},
   "source": [
    "\n",
    "## 6) Train the Models\n"
   ]
  },
  {
   "cell_type": "code",
   "execution_count": null,
   "id": "b206276f",
   "metadata": {},
   "outputs": [],
   "source": [
    "\n",
    "log_reg_clf.fit(X_train, y_train)\n",
    "rf_clf.fit(X_train, y_train)\n",
    "\n",
    "print(\"Done.\")\n"
   ]
  },
  {
   "cell_type": "markdown",
   "id": "b700a291",
   "metadata": {},
   "source": [
    "\n",
    "## 7) Evaluation\n",
    "We report common metrics and show ROC curves and confusion matrices.\n"
   ]
  },
  {
   "cell_type": "code",
   "execution_count": null,
   "id": "149f23cb",
   "metadata": {},
   "outputs": [],
   "source": [
    "\n",
    "def evaluate_model(name, model, X_tr, y_tr, X_te, y_te):\n",
    "    y_pred = model.predict(X_te)\n",
    "    if hasattr(model, \"predict_proba\"):\n",
    "        y_proba = model.predict_proba(X_te)[:, 1]\n",
    "    else:\n",
    "        # For safety; most classifiers here have predict_proba\n",
    "        y_proba = None\n",
    "\n",
    "    metrics = {\n",
    "        \"accuracy\": accuracy_score(y_te, y_pred),\n",
    "        \"precision\": precision_score(y_te, y_pred),\n",
    "        \"recall\": recall_score(y_te, y_pred),\n",
    "        \"f1\": f1_score(y_te, y_pred),\n",
    "    }\n",
    "    if y_proba is not None:\n",
    "        metrics[\"roc_auc\"] = roc_auc_score(y_te, y_proba)\n",
    "\n",
    "    print(f\"\\n=== {name} ===\")\n",
    "    for k, v in metrics.items():\n",
    "        print(f\"{k:>10}: {v:.4f}\")\n",
    "    print(\"\\nClassification report:\\n\", classification_report(y_te, y_pred, target_names=data.target_names))\n",
    "\n",
    "    # ROC Curve\n",
    "    if y_proba is not None:\n",
    "        fpr, tpr, _ = roc_curve(y_te, y_proba)\n",
    "        plt.figure()\n",
    "        plt.plot(fpr, tpr, label=f\"{name} (AUC={metrics.get('roc_auc', float('nan')):.3f})\")\n",
    "        plt.plot([0, 1], [0, 1], linestyle='--')\n",
    "        plt.xlabel(\"False Positive Rate\")\n",
    "        plt.ylabel(\"True Positive Rate\")\n",
    "        plt.title(f\"ROC Curve — {name}\")\n",
    "        plt.legend(loc=\"lower right\")\n",
    "        plt.show()\n",
    "\n",
    "    # Confusion matrix\n",
    "    cm = confusion_matrix(y_te, y_pred)\n",
    "    plt.figure()\n",
    "    plt.matshow(cm, fignum=0)\n",
    "    plt.title(f\"Confusion Matrix — {name}\")\n",
    "    plt.xlabel(\"Predicted\")\n",
    "    plt.ylabel(\"True\")\n",
    "    for (i, j), val in np.ndenumerate(cm):\n",
    "        plt.text(j, i, int(val), ha='center', va='center')\n",
    "    plt.show()\n",
    "\n",
    "evaluate_model(\"Logistic Regression\", log_reg_clf, X_train, y_train, X_test, y_test)\n",
    "evaluate_model(\"Random Forest\", rf_clf, X_train, y_train, X_test, y_test)\n"
   ]
  },
  {
   "cell_type": "markdown",
   "id": "89cf8037",
   "metadata": {},
   "source": [
    "\n",
    "## 8) Cross‑Validation\n",
    "Stratified 5‑fold cross‑validation on the training set.\n"
   ]
  },
  {
   "cell_type": "code",
   "execution_count": null,
   "id": "5d97fafa",
   "metadata": {},
   "outputs": [],
   "source": [
    "\n",
    "cv = StratifiedKFold(n_splits=5, shuffle=True, random_state=RANDOM_STATE)\n",
    "\n",
    "for name, model in [\n",
    "    (\"Logistic Regression\", log_reg_clf),\n",
    "    (\"Random Forest\", rf_clf),\n",
    "]:\n",
    "    scores = cross_val_score(model, X_train, y_train, cv=cv, scoring=\"roc_auc\", n_jobs=-1)\n",
    "    print(f\"{name} CV ROC AUC: mean={scores.mean():.4f} ± {scores.std():.4f}\")\n"
   ]
  },
  {
   "cell_type": "markdown",
   "id": "5a1ab84d",
   "metadata": {},
   "source": [
    "\n",
    "## 9) Feature Importance & Interpretation\n",
    "We inspect:\n",
    "- Logistic Regression coefficients (absolute magnitude)\n",
    "- Random Forest `feature_importances_`\n",
    "- Permutation importance (on the test set)\n"
   ]
  },
  {
   "cell_type": "code",
   "execution_count": null,
   "id": "459e82bd",
   "metadata": {},
   "outputs": [],
   "source": [
    "\n",
    "# Logistic Regression coefficients (after scaling)\n",
    "log_reg = log_reg_clf.named_steps[\"model\"]\n",
    "scaler = log_reg_clf.named_steps[\"scaler\"]\n",
    "\n",
    "coef = pd.Series(np.abs(log_reg.coef_[0]), index=X.columns).sort_values(ascending=False)\n",
    "coef.head(10)\n"
   ]
  },
  {
   "cell_type": "code",
   "execution_count": null,
   "id": "315ffd68",
   "metadata": {},
   "outputs": [],
   "source": [
    "\n",
    "plt.figure()\n",
    "coef.head(15).iloc[::-1].plot(kind=\"barh\")\n",
    "plt.title(\"Top 15 | Logistic Regression | |coef|\")\n",
    "plt.xlabel(\"|Coefficient|\")\n",
    "plt.tight_layout()\n",
    "plt.show()\n"
   ]
  },
  {
   "cell_type": "code",
   "execution_count": null,
   "id": "31d0a41e",
   "metadata": {},
   "outputs": [],
   "source": [
    "\n",
    "# Random Forest Feature Importances\n",
    "rf_importance = pd.Series(rf_clf.feature_importances_, index=X.columns).sort_values(ascending=False)\n",
    "rf_importance.head(10)\n"
   ]
  },
  {
   "cell_type": "code",
   "execution_count": null,
   "id": "27eb2f51",
   "metadata": {},
   "outputs": [],
   "source": [
    "\n",
    "plt.figure()\n",
    "rf_importance.head(15).iloc[::-1].plot(kind=\"barh\")\n",
    "plt.title(\"Top 15 | Random Forest | Feature Importance\")\n",
    "plt.xlabel(\"Importance\")\n",
    "plt.tight_layout()\n",
    "plt.show()\n"
   ]
  },
  {
   "cell_type": "code",
   "execution_count": null,
   "id": "00bb1ccd",
   "metadata": {},
   "outputs": [],
   "source": [
    "\n",
    "# Permutation importance (on test set) for the best performing model (choose RF by default here)\n",
    "perm = permutation_importance(rf_clf, X_test, y_test, n_repeats=20, random_state=RANDOM_STATE, n_jobs=-1)\n",
    "perm_importance = pd.Series(perm.importances_mean, index=X.columns).sort_values(ascending=False)\n",
    "perm_importance.head(10)\n"
   ]
  },
  {
   "cell_type": "code",
   "execution_count": null,
   "id": "945eb71e",
   "metadata": {},
   "outputs": [],
   "source": [
    "\n",
    "plt.figure()\n",
    "perm_importance.head(15).iloc[::-1].plot(kind=\"barh\")\n",
    "plt.title(\"Top 15 | Permutation Importance (RF on test set)\")\n",
    "plt.xlabel(\"Mean decrease in score\")\n",
    "plt.tight_layout()\n",
    "plt.show()\n"
   ]
  },
  {
   "cell_type": "markdown",
   "id": "fb7bc1e5",
   "metadata": {},
   "source": [
    "\n",
    "## 10) Save the Trained Model\n",
    "Export the Random Forest (change to Logistic Regression if that scores better for you).\n"
   ]
  },
  {
   "cell_type": "code",
   "execution_count": null,
   "id": "9557d4c6",
   "metadata": {},
   "outputs": [],
   "source": [
    "\n",
    "model_path = \"/mnt/data/breast_cancer_model.joblib\"\n",
    "joblib.dump(rf_clf, model_path)\n",
    "model_path\n"
   ]
  },
  {
   "cell_type": "markdown",
   "id": "aca46a9d",
   "metadata": {},
   "source": [
    "\n",
    "## 11) Simple Inference\n",
    "Create a synthetic sample from the **feature means** and predict.\n"
   ]
  },
  {
   "cell_type": "code",
   "execution_count": null,
   "id": "fd366793",
   "metadata": {},
   "outputs": [],
   "source": [
    "\n",
    "# Build a single sample using the mean of each feature (for demonstration)\n",
    "x_new = X.mean().values.reshape(1, -1)\n",
    "pred_class = rf_clf.predict(x_new)[0]\n",
    "pred_proba = rf_clf.predict_proba(x_new)[0, 1]\n",
    "\n",
    "print(f\"Predicted class: {data.target_names[pred_class]}\")\n",
    "print(f\"Predicted probability of 'malignant': {pred_proba:.4f}\")\n"
   ]
  },
  {
   "cell_type": "markdown",
   "id": "d468bbc5",
   "metadata": {},
   "source": [
    "\n",
    "## 12) Notes & Responsible Use\n",
    "\n",
    "- This is an educational demo using a small, clean benchmark dataset.  \n",
    "- Real clinical workflows require rigorous validation, calibration, bias checks, and regulatory approval.  \n",
    "- Do not use this model for real medical decisions.\n"
   ]
  }
 ],
 "metadata": {},
 "nbformat": 4,
 "nbformat_minor": 5
}
